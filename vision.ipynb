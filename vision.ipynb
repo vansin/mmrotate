{
 "cells": [
  {
   "cell_type": "code",
   "execution_count": null,
   "metadata": {},
   "outputs": [],
   "source": [
    "# Copyright (c) OpenMMLab. All rights reserved.\n",
    "import argparse\n",
    "\n",
    "import torch\n",
    "from mmengine import Config\n",
    "from functools import partial\n",
    "\n",
    "from mmrotate.registry import MODELS\n",
    "from mmrotate.utils import register_all_modules\n",
    "from mmengine.runner import Runner\n",
    "from torchview import draw_graph\n",
    "import graphviz\n",
    "# graphviz.set_jupyter_format('svg')\n",
    "# register_all_modules()\n",
    "\n",
    "from torchinfo import summary"
   ]
  },
  {
   "cell_type": "code",
   "execution_count": null,
   "metadata": {},
   "outputs": [],
   "source": [
    "\n",
    "\n",
    "\n",
    "cfg = Config.fromfile('configs/rotated_faster_rcnn/rotated-faster-rcnn-le90_r50_fpn_1x_icdar2019.py')\n",
    "dataloader = Runner.build_dataloader(cfg.val_dataloader)\n",
    "\n",
    "for idx, data_batch in enumerate(dataloader):\n",
    "    print(idx, data_batch)\n",
    "    break\n",
    "\n",
    "model = MODELS.build(cfg.model)\n",
    "_forward = model.forward\n",
    "\n",
    "data = model.data_preprocessor(data_batch)\n",
    "model.forward = partial(_forward, data_samples=data['data_samples'])\n",
    "\n",
    "\n",
    "summary(model, data['inputs'].shape, depth=3)\n",
    "# summary(model, (1, 3, 1024, 1024), depth=3)\n",
    "model_graph = draw_graph(model, input_size=data['inputs'].shape)\n",
    "model_graph.visual_graph"
   ]
  }
 ],
 "metadata": {
  "kernelspec": {
   "display_name": "mmroate",
   "language": "python",
   "name": "python3"
  },
  "language_info": {
   "codemirror_mode": {
    "name": "ipython",
    "version": 3
   },
   "file_extension": ".py",
   "mimetype": "text/x-python",
   "name": "python",
   "nbconvert_exporter": "python",
   "pygments_lexer": "ipython3",
   "version": "3.8.15 (default, Nov 24 2022, 15:19:38) \n[GCC 11.2.0]"
  },
  "orig_nbformat": 4,
  "vscode": {
   "interpreter": {
    "hash": "ee37251af7087ac60bc1214ce22d8f37d8d56e9e600386add225441fca80f03b"
   }
  }
 },
 "nbformat": 4,
 "nbformat_minor": 2
}
